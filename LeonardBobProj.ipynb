{
 "cells": [
  {
   "cell_type": "markdown",
   "metadata": {},
   "source": [
    "# Leonard Cohen vs Bob Dylan Machine Learning Project"
   ]
  },
  {
   "cell_type": "markdown",
   "metadata": {},
   "source": [
    "## Background\n",
    "Bob Dylan and Leonard Cohen are two of the most verbose and prolific singer-poets of the 20th century, with a corpus of songs spanning more than 50 years. Moreover, despite both emerging during the folk revival of the 1960s, their poetic styles are highly distinct and unique, standing head and shoulders above their contemporaries in quality, consistency, and longevity. I though it would therefore be an interesting project to see if I could train a machine learning (ML) algorithm to tell their styles apart, and even assign new words and/or phrases to being more Dylan-esque, or Cohen-like."
   ]
  },
  {
   "cell_type": "markdown",
   "metadata": {},
   "source": [
    "## Methodology\n",
    "Every song from every STUDIO ALBUM of either Bob Dyl or Leonard Cohen was saved as a .txt file in separate directories.\n",
    "\n",
    "Only ORIGINAL COMPOSITIONS were included in the analysis.\n",
    "\n",
    "\n",
    "Note: Songs from the 1976 album 'Desire' were included in the Dylan corpus, even though they were largely co-written with Jacques Levy.\n",
    "Likewise for the tracks on Side 2 of 1986 album 'Knocked Out Loaded'.\n",
    "Cohen's final album 'You Want It Darker' was collaborative, however, as stated on wikipedia \"All lyrics written by Leonard Cohen\", therefore all tracks were included in the Cohen corpus.\n",
    "\n",
    "#####!!!!!!!!!!! got up to the 1990s for Bob.... will continue after testing the model\n",
    "\n",
    "Note: The album 'Death Of A Ladies' Man' was included in the Cohen corpus even though it was co-written with Phil Spector. The lyrics were most likely predominently written by Cohen. \n",
    "Likewise for the 2001 album 'Ten New Songs' (co-written with Sharon Robinson).\n",
    "On the 2004 album 'Dear Heather', the songs adapted from poems were not included in the Cohen corpus."
   ]
  },
  {
   "cell_type": "markdown",
   "metadata": {},
   "source": [
    "## Notes and Considerations\n",
    "Dylan's corpus is significantly larger than Cohens... not sure how this may affect the algorithm and its output."
   ]
  },
  {
   "cell_type": "markdown",
   "metadata": {},
   "source": [
    "## Core Development Notes\n",
    "**_(see file 'project-methodology.txt' for development notes)_**"
   ]
  },
  {
   "cell_type": "markdown",
   "metadata": {},
   "source": [
    "# First steps"
   ]
  },
  {
   "cell_type": "markdown",
   "metadata": {},
   "source": [
    "Import the word stemmer object from the nltk package"
   ]
  },
  {
   "cell_type": "code",
   "execution_count": 1,
   "metadata": {},
   "outputs": [],
   "source": [
    "from nltk.stem.snowball import SnowballStemmer\n",
    "from textblob import TextBlob\n",
    "import string"
   ]
  },
  {
   "cell_type": "code",
   "execution_count": 2,
   "metadata": {},
   "outputs": [],
   "source": [
    "### helper function for stripping any non-ascii characters from the txt files\n",
    "def strip_non_ascii(n):\n",
    "    ''' Returns the string without non-ASCII characters '''\n",
    "    stripped = (c for c in n if 0 < ord(c) < 127)\n",
    "\n",
    "    return ''.join(stripped)"
   ]
  },
  {
   "cell_type": "markdown",
   "metadata": {},
   "source": [
    "### Main lyrics parsing function"
   ]
  },
  {
   "cell_type": "code",
   "execution_count": 3,
   "metadata": {},
   "outputs": [],
   "source": [
    "### main parsing function\n",
    "def parseOutLyrics(f):\n",
    "    \"\"\"\n",
    "    Takes a file 'f' and converts to a string, then splits the string into individual words\n",
    "    and performs 'stemming' on them and return a string that contains all the words\n",
    "    in the song (space-separated).\n",
    "\n",
    "    example use case:\n",
    "    f = open(\"song_name.txt\", \"r\")\n",
    "    text = parseOutText(f)\n",
    "\n",
    "    \"\"\"\n",
    "\n",
    "    all_lyrics = f.read() # reads file into a single string\n",
    "\n",
    "\n",
    "    words = \"\"\n",
    "\n",
    "    if len(all_lyrics) > 1:\n",
    "        ### remove punctuation\n",
    "        ## .translate() takes two arguments, the thing to convert characters to (often with the maketrans()\n",
    "        ## helper function), and the characters to replace/'translate'.\n",
    "        lyrics_string = all_lyrics.translate(string.maketrans(\"\", \"\"), string.punctuation)\n",
    "\n",
    "        # strip non-ascii characters\n",
    "        lyrics_string = strip_non_ascii(lyrics_string)\n",
    "\n",
    "        ### Split the text string into individual words, stem the word, and append each stemmed word\n",
    "        ### to a new list called stemmed_lyrics (make sure there is a single space between each\n",
    "        ### stemmed word)\n",
    "\n",
    "        split_lyrics = lyrics_string.split() # split on 'default' whitespace. Returns a list of words.\n",
    "            \n",
    "        stemmer = SnowballStemmer(\"english\") # create 'stemmer' obj\n",
    "\n",
    "        stemmed_lyrics = []\n",
    "        for word in split_lyrics:\n",
    "            st_word = stemmer.stem(word)\n",
    "            stemmed_lyrics.append(st_word)\n",
    "\n",
    "        words = \" \".join(stemmed_lyrics) # re-join the newly-created list of words...\n",
    "\n",
    "    return words"
   ]
  },
  {
   "cell_type": "markdown",
   "metadata": {},
   "source": [
    "## More pre-processing options"
   ]
  },
  {
   "cell_type": "code",
   "execution_count": 4,
   "metadata": {},
   "outputs": [
    {
     "name": "stdout",
     "output_type": "stream",
     "text": [
      "[[u'I', u'have', u'only', u'one', u'thing', u'to', u'do', u'with', u'you'], [u'PRP', u'VBP', u'RB', u'CD', u'NN', u'TO', u'VBP', u'IN', u'PRP']]\n"
     ]
    }
   ],
   "source": [
    "### Use 'Part-of-speech (PoS)' recognition via TextBlob\n",
    "from textblob import TextBlob\n",
    "\n",
    "test_song = \"I have only one thing to do with you\"\n",
    "\n",
    "def split_into_tokens(song):\n",
    "    \"\"\"\n",
    "        PoS assigns each word to a 'word-type' (e.g. \"Noun, plural\")\n",
    "        \n",
    "        This function was adapted from the blog post: https://radimrehurek.com/data_science_python/\n",
    "        \n",
    "    \"\"\"\n",
    "    # song = unicode(song, 'utf8')  # convert bytes into proper unicode\n",
    "    return TextBlob(song).tags\n",
    "\n",
    "list_of_tups =  split_into_tokens(test_song)\n",
    "\n",
    "# unzip the tuple list to create two lists: one with the words, and one with the PoS's\n",
    "new_data = [list(t) for t in zip(*list_of_tups)]\n",
    "print new_data"
   ]
  },
  {
   "cell_type": "markdown",
   "metadata": {},
   "source": [
    "## Code to 'vectorize' the parsed lyrics data"
   ]
  },
  {
   "cell_type": "code",
   "execution_count": 5,
   "metadata": {},
   "outputs": [],
   "source": [
    "import os\n",
    "import pickle\n",
    "import re\n",
    "import sys\n",
    "\n",
    "sys.path.append( \"../code/\" )\n",
    "\n",
    "\"\"\"\n",
    "    Starter code to process the lyric files from Bob and Leonard to extract\n",
    "    the features and get the documents ready for classification.\n",
    "\n",
    "    The data is stored in lists and packed away in pickle files at the end.\n",
    "\"\"\"\n",
    "\n",
    "which_artist_data = [] # will be a bunch of 0s and 1s associated with the lyric data\n",
    "lyrics_data = [] # ALL of the lyrics data, with who wrote the lyric stored in the which_artist_data list\n",
    "\n",
    "\"\"\"\n",
    "### Loop through all the song files in the album sub-directories\n",
    "### This first one is a test... testing, testing, 1, 2, 3\n",
    "test_dir = '/Users/TBD/Documents/LeonardBobProj/Test/'\n",
    "for root, dirs, filenames in os.walk(test_dir):\n",
    "    for f in filenames:\n",
    "        if f.startswith('.DS'):\n",
    "            pass\n",
    "        else:\n",
    "            print os.path.join(root, f)\n",
    "            open_test_song = open(os.path.join(root, f), \"r\")\n",
    "            parsed_test_song = parseOutLyrics(open_test_song)\n",
    "\n",
    "            ## Remove some words from test file, try their names (?)\n",
    "            words_to_remove = [\"bob\", \"leonard\"]\n",
    "            for word in words_to_remove:\n",
    "                parsed_test_song = parsed_test_song.replace(word, \"\")\n",
    "\n",
    "            ### append the text to the lyrics_data list         \n",
    "            lyrics_data.append(parsed_test_song)\n",
    "\n",
    "            ### append a 0 to which_artist_data list to indicate lyrics are from Bob!\n",
    "            which_artist_data.append(0)\n",
    "\n",
    "            #print parsed_test_song\n",
    "\n",
    "            # close song file\n",
    "            open_test_song.close()\n",
    "\"\"\"\n",
    "\n",
    "#********************************PARSE SONGS INTO LISTS OF STEMMED WORDS******************************#\n",
    "\n",
    "### Loop through all the song files in the album sub-directories\n",
    "### This first one is for Bob!\n",
    "bob_dir = '/Users/TBD/Documents/LeonardBobProj/Bob/'\n",
    "for root, dirs, filenames in os.walk(bob_dir):\n",
    "    for f in filenames:\n",
    "        if f.startswith('.DS'):\n",
    "            pass\n",
    "        else:\n",
    "            # print os.path.join(root, f)\n",
    "            open_bob_song = open(os.path.join(root, f), \"r\")    # had to add full dir path as was getting \"IOError: [Errno 2]\"\n",
    "            parsed_bob_song = parseOutLyrics(open_bob_song)\n",
    "\n",
    "            ## Remove some words from bob's songs. Mainly just his name I guess!\n",
    "            words_to_remove = [\"bob\", \"dylan\"]\n",
    "            for word in words_to_remove:\n",
    "                parsed_bob_song = parsed_bob_song.replace(word, \"\")\n",
    "\n",
    "            ### append the text to the lyrics_data list         \n",
    "            lyrics_data.append(parsed_bob_song)\n",
    "\n",
    "            ### append a 0 to which_artist_data list to indicate lyrics are from Bob!\n",
    "            which_artist_data.append(0)\n",
    "\n",
    "            # close song file\n",
    "            open_bob_song.close()\n",
    "\n",
    "### Loop through all the song files in the album sub-directories\n",
    "### This one is for Leonard!\n",
    "leonard_dir = '/Users/TBD/Documents/LeonardBobProj/Leonard/'\n",
    "for root, dirs, filenames in os.walk(leonard_dir):\n",
    "    for f in filenames:\n",
    "        if f.startswith('.DS'):\n",
    "            pass\n",
    "        else:\n",
    "            # print os.path.join(root, f)\n",
    "            open_leonard_song = open(os.path.join(root, f), \"r\")\n",
    "            parsed_leonard_song = parseOutLyrics(open_leonard_song)\n",
    "\n",
    "            ## Remove some words from leonard's songs. Mainly just his name as well!\n",
    "            words_to_remove = [\"leonard\", \"cohen\"]\n",
    "            for word in words_to_remove:\n",
    "                parsed_leonard_song = parsed_leonard_song.replace(word, \"\")\n",
    "\n",
    "            ### append the text to the lyrics_data list         \n",
    "            lyrics_data.append(parsed_leonard_song)\n",
    "\n",
    "            ### append a 1 to which_artist_data list to indicate lyrics are from Leonard!\n",
    "            which_artist_data.append(1)\n",
    "\n",
    "            # close song file\n",
    "            open_leonard_song.close()\n"
   ]
  },
  {
   "cell_type": "markdown",
   "metadata": {},
   "source": [
    "Check newly-created lists 'lyrics_data' and 'which_artist_data' are populated correctly"
   ]
  },
  {
   "cell_type": "code",
   "execution_count": 10,
   "metadata": {},
   "outputs": [
    {
     "name": "stdout",
     "output_type": "stream",
     "text": [
      "No. of songs parsed: 330\n",
      "Length of which_artist_data: 330\n",
      "No. of Bob songs: 204\n",
      "No. of Leonard songs: 126\n",
      "Random song: the wick messeng   there was a wick messeng from eli he did come with a mind that multipli the smallest matter when question who had sent for him he answer with his thumb for his tongu it could not speak but onli flatter he stay behind the assembl hall it was there he made his bed oftentim he could be seen return until one day he just appear with a note in his hand which read the sole of my feet i swear theyr burn oh the leav began to fallin and the sea began to part and the peopl that confront him were mani and he was told but these few word which open up his heart if you cannot bring good news then dont bring ani\n",
      "Lyrics all processed.\n"
     ]
    }
   ],
   "source": [
    "from random import randrange\n",
    "\n",
    "# print lyrics_data\n",
    "print \"No. of songs parsed:\", len(lyrics_data)\n",
    "print \"Length of which_artist_data:\", len(which_artist_data)\n",
    "\n",
    "num_bob_songs = 0\n",
    "num_leonard_songs = 0\n",
    "\n",
    "for n in which_artist_data:\n",
    "    if n == 0:\n",
    "        num_bob_songs += 1\n",
    "    elif n == 1:\n",
    "        num_leonard_songs += 1\n",
    "\n",
    "print \"No. of Bob songs:\", num_bob_songs\n",
    "print \"No. of Leonard songs:\", num_leonard_songs\n",
    "\n",
    "print \"Random song:\", lyrics_data[randrange(0, len(lyrics_data))]\n",
    "\n",
    "### 'Dump' the generated lists into 'pickle' files\n",
    "\n",
    "pickle.dump( lyrics_data, open(\"full_lyrics_data.pkl\", \"w\") )\n",
    "pickle.dump( which_artist_data, open(\"artist_identifier_data.pkl\", \"w\") )\n",
    "\n",
    "\n",
    "print \"Lyrics all processed.\""
   ]
  },
  {
   "cell_type": "code",
   "execution_count": 11,
   "metadata": {},
   "outputs": [],
   "source": [
    "# print lyrics_data"
   ]
  },
  {
   "cell_type": "markdown",
   "metadata": {},
   "source": [
    "# Machine Learning Code"
   ]
  },
  {
   "cell_type": "code",
   "execution_count": 12,
   "metadata": {},
   "outputs": [
    {
     "name": "stderr",
     "output_type": "stream",
     "text": [
      "/Users/TBD/anaconda/lib/python2.7/site-packages/sklearn/cross_validation.py:41: DeprecationWarning: This module was deprecated in version 0.18 in favor of the model_selection module into which all the refactored classes and functions are moved. Also note that the interface of the new CV iterators are different from that of this module. This module will be removed in 0.20.\n",
      "  \"This module will be removed in 0.20.\", DeprecationWarning)\n"
     ]
    }
   ],
   "source": [
    "import pickle\n",
    "import numpy as np \n",
    "import scipy as sp\n",
    "from time import time\n",
    "from sklearn import cross_validation\n",
    "from sklearn.metrics import accuracy_score, precision_score, recall_score\n",
    "from sklearn.feature_selection import SelectPercentile, f_classif\n",
    "from sklearn.feature_extraction.text import TfidfVectorizer\n",
    "\n",
    "np.random.seed(42)"
   ]
  },
  {
   "cell_type": "markdown",
   "metadata": {},
   "source": [
    "Re-load the pickled list data created above"
   ]
  },
  {
   "cell_type": "code",
   "execution_count": 13,
   "metadata": {},
   "outputs": [],
   "source": [
    "#************************************LOAD DATA FROM PICKLE FILES****************************************#\n",
    "### The lyrics (features) and artists (labels) are already largely processed by 'vectorize_lyrics.py'.\n",
    "### These pickle files should have been created during that pre-processing\n",
    "lyrics_file = \"/Users/TBD/Documents/LeonardBobProj/code/full_lyrics_data.pkl\" \n",
    "artists_file = \"/Users/TBD/Documents/LeonardBobProj/code/artist_identifier_data.pkl\"\n",
    "lyric_data = pickle.load( open(lyrics_file, \"r\"))\n",
    "artists = pickle.load( open(artists_file, \"r\") )"
   ]
  },
  {
   "cell_type": "markdown",
   "metadata": {},
   "source": [
    "Split the data into 'training' and 'testing' subsets (with 80% used for training)"
   ]
  },
  {
   "cell_type": "code",
   "execution_count": 14,
   "metadata": {},
   "outputs": [],
   "source": [
    "#*******************************TEST/TRAIN SPLITS VIA CROSS-VALIDATION***********************************#\n",
    "### test_size is the percentage of events assigned to the test set (the remainder go into training)\n",
    "features_train, features_test, labels_train, labels_test = cross_validation.train_test_split(lyric_data, artists, test_size=0.2, random_state=42)"
   ]
  },
  {
   "cell_type": "code",
   "execution_count": 17,
   "metadata": {},
   "outputs": [
    {
     "data": {
      "text/plain": [
       "[u'i shall be free   well i took me a woman late last night is threefourth drunk she look all right till she start peelin off her onion gook she took off her wig said how do i look is high flyin bare nake out the window well sometim i might get drunk walk like a duck and smell like a skunk dont hurt me none dont hurt my pride caus i got my littl ladi right by my side shes atryin to hide pretendin she dont know me is out there paintin on the old wood shed when a can oblack paint it fell on my head i went down to scrub and rub but i had to sit in back of the tub cost a quarter half price well my telephon rang it would not stop it presid kennedi callin me up he said my friend  what do we need to make the countri grow i said my friend john brigitt bardot anita ekberg sophia loren countryl grow well i got a woman five feet short she yell and holler and squeal and snort she tickl my nose pat me on the head blow me over and kick me out of bed shes a man eater meat grinder bad loser oh there aint no use in me workin alla time i got a woman who work herself blind work up to her britch up to her neck write me letter and send me check shes a humding folk singer late one day in the middl of the week eye were close i was half asleep i chase me a woman up the hill right in the middl of an air drill i jump a fallout shelter i jump the string bean i jump the tv dinner i jump the shot gun now the man on the stand he want my vote hes arunnin for offic on the ballot note hes out there preachin in front of the steepl tellin me he love all kindsa peopl hes eatin bagel hes eatin pizza hes eatin chitlin oh set me down on a televis floor ill flip the channel to number four out of the shower come a footbal man with a bottl of oil in his hand greasi kid stuff what i want to know mr footbal man is what do you do about willi may martin luther king olatunji well the funniest woman i ever seen was the greatgranddaught of mr clean she take about fifteen bath a day want me to grow a moustach on my face shes insan well ask me whi im drunk alla time it level my head and eas my mind i just walk along and stroll and sing i see better day and i do better thing i catch dinosaur i make love to elizabeth taylor catch hell from richard burton',\n",
       " u'shot of love   i need a shot of love i need a shot of love dont need a shot of heroin to kill my diseas dont need a shot of turpentin onli bring me to my knee dont need a shot of codein to help me to repent dont need a shot of whiskey help me be presid i need a shot of love i need a shot of love doctor can you hear me i need some medicaid i seen the kingdom of the world and it makin me feel afraid what i got aint pain it just bound to kill me dead like the men that follow jesus when they put a price upon his head i need a shot of love i need a shot of love i dont need no alibi when im spend time with you ive heard all of them rumor and you have heard em too dont show me no pictur show or give me no book to read it dont satisfi the hurt insid nor the habit that it feed i need a shot of love i need a shot of love whi would i want to take your life youv onli murder my father rape his wife tattoo my babi with a poison pen mock my god humili my friend i need a shot of love i need a shot of love dont wanna be with nobodi tonight veronica not around nowher mavi just aint right there a man that hate me and hes swift smooth and near am i suppos to set back and wait until hes here i need a shot of love i need a shot of love what make the wind wanna blow tonight dont even feel like cross the street and my car aint actin right call home everybodi seem to have move away my conscienc is begin to bother me today i need a shot of love i need a shot of love i need a shot of love i need a shot of love if your a doctor i need a shot of love',\n",
       " u'true love tend to forget   im get weari look in my babi eye when shes near me shes so hard to recogn i final realiz there no room for regret true love true love true love tend to forget hold me babi be near you told me that youd be sincer everi day of the year like playin russian roulett true love true love true love tend to forget i was lyin down in the reed without ani oxygen i saw you in the wilder among the men saw you drift into infin and come back again all you got to do is wait and ill tell you when your a tearjerk babi but im under your spell your a hard worker babi and i know you well but this weekend in hell is make me sweat true love true love true love tend to forget true love true love true love tend to forget i was lyin down in the reed without ani oxygen i saw you in the wilder among the men saw you drift into infin and come back again all you got to do is wait and ill tell you when you belong to me babi without ani doubt dont forsak me babi dont sell me out dont keep me knockin about from mexico to tibet true love true love true love tend to forget',\n",
       " u'desol row   theyr sell postcard of the hang theyr paint the passport brown the beauti parlor is fill with sailor the circus is in town here come the blind commission theyv got him in a tranc one hand is tie to the tightrop walker the other is in his pant and the riot squad theyr restless they need somewher to go as ladi and i look out tonight from desol row cinderella she seem so easi it take one to know one she smile and put her hand in her back pocket bett davi style and in come romeo hes moan you belong to me i believ and someon say your in the wrong place my friend youd better leav and the onli sound that left after the ambul go is cinderella sweep up on desol row now the moon is almost hidden the star are begin to hide the fortun tell ladi has even taken all her thing insid all except for cain and abel and the hunchback of notr dame everybodi is make love or els expect rain and the good samaritan hes dress hes get readi for the show hes go to the carniv tonight on desol row ophelia shes neath the window for her i feel so afraid on her twentysecond birthday she alreadi is an old maid to her death is quit romant she wear an iron vest her profess her religion her sin is her lifeless and though her eye are fix upon noah great rainbow she spend her time peek into desol row einstein disguis as robin hood with his memori in a trunk pass this way an hour ago with his friend a jealous monk now he look so immacul fright as he bum a cigarett and he when off snif drainpip and recit the alphabet you would not think to look at him but he was famous long ago for play the electr violin on desol row dr filth he keep his world insid of a leather cup but all his sexless patient theyr tri to blow it up now his nurs some local loser shes in charg of the cyanid hole and she also keep the card that read have merci on his soul they all play on the penni whistl you can hear them blow if you lean your head out far enough from desol row across the street theyv nail the curtain theyr get readi for the feast the phantom of the opera in a perfect imag of a priest they are spoon feed casanova to get him to feel more assur then theyll kill him with selfconfid after poison him with word and the phantom shout to skinni girl get outta here if you dont know casanova is just be punish for go to desol row at midnight all the agent and the superhuman crew come out and round up everyon that know more than they do then they bring them to the factori where the heartattack machin is strap across their shoulder and then the kerosen is brought down from the castl by insur men who go check to see that nobodi is escap to desol row prais be to nero neptun the titan sail at dawn everybodi shout which side are you on and ezra pound and ts eliot fight in the captain tower while calypso singer laugh at them and fishermen hold flower between the window of the sea where love mermaid flow and nobodi has to think too much about desol row yes i receiv your letter yesterday about the time the doorknob broke when you ask me how i was do was that some kind of joke all these peopl that you mention yes i know them theyr quit lame i had to rearrang their face and give them all anoth name right now i cant read too good dont send me no more letter no not unless you mail them from desol row',\n",
       " u'new morn   cant you hear that rooster crowin rabbit runnin down across the road underneath the bridg where the water flow through so happi just to see you smile underneath the sky of blue on this new morn new morn on this new morn with you cant you hear that motor turnin automobil comin into style comin down the road for a countri mile or two so happi just to see you smile underneath the sky of blue on this new morn new morn on this new morn with you the night pass away so quick it alway doe when your with me cant you feel that sun ashinin ground hog runnin by the countri stream this must be the day that all of my dream come true so happi just to be aliv underneath the sky of blue on this new morn new morn on this new morn with you so happi just to be aliv underneath the sky of blue on this new morn new morn on this new morn with you new morn',\n",
       " u'winterlud   winterlud winterlud oh darlin winterlud by the road tonight tonight there will be no quarrelin evryth is gonna be all right oh i see by the angel besid me that love has a reason to shine your the one i ador come over here and give me more then winterlud this dude think your fine winterlud winterlud my littl appl winterlud by the corn in the field winterlud let go down to the chapel then come back and cook up a meal well come out when the skate rink glisten by the sun near the old crossroad sign the snow is so cold but our love can be bold winterlud dont be rude pleas be mine winterlud winterlud my littl daisi winterlud by the telephon wire winterlud it makin me lazi come on sit by the log in the fire the moonlight reflect from the window where the snowflak they cover the sand come out tonight evryth will be tight winterlud this dude think your grand',\n",
       " u'peggi day   peggi day stole my poor heart away by golli what more can i say love to spend the night with peggi day peggi night make my futur look so bright man that girl is out of sight love to spend the day with peggi night well you know that even befor i learn her name you know i love her just the same an i tell em all wherev i may go just so theyll know that shes my littl ladi and i love her so peggi day stole my poor heart away turn my sky to blue from gray love to spend the night with peggi day peggi day stole my poor heart away by golli what more can i say love to spend the night with peggi day love to spend the night with peggi day',\n",
       " u'show me the place   show me the place where you want your slave to go show me the place ive forgotten i dont know show me the place where my head is bend and low show me the place where you want your slave to go show me the place help me roll away the stone show me the place i cant move this thing alon show me the place where the word becam a man show me the place where the suffer began the troubl came i save what i could save a shred of light a particl away but there were chain so i hasten to the hay there were chain so i love you like a spade show me the place where you want your slave to go show me the place ive forgotten i dont know show me the place where you want your slave to go the troubl came i save what i could save a shred of light a particl away but there were chain so i hasten to the hay there were chain so i love you like a slave show me the place show me the place show me the place show me the place help me roll away the stone show me the place i cant move this thing alon show me the place where the word becam a man show me the place where the suffer began',\n",
       " u'my oh my   wasnt hard to love you didnt have to tri wasnt hard to love you didnt have to tri held you for a littl while my oh my oh my drove you to the station never ask you whi drove you to the station never ask you whi held you for a littl while my oh my oh my all the boy are wave tri to catch your eye all the boy are wave tri to catch your eye held you for a littl while my oh my oh my wasnt hard to love you didnt have to tri wasnt hard to love you didnt have to tri held you for a littl while my oh my oh my',\n",
       " u'the butcher   i came upon a butcher he was slaughter a lamb i accus him there with his tortur lamb he said listen to me child i am what i am and you you are my onli son well i found a silver needl i put it into my arm it did some good did some harm but the night were cold and it almost kept me warm how come the night is long i saw some flower grow up where that lamb fell down was i suppos to prais my lord make some kind of joy sound he said listen listen to me now i go round and round and you you are my onli child do not leav me now do not leav me now im broken down from a recent fall blood upon my bodi and ice upon my soul lead on my son it is your world',\n",
       " u'union sundown   well my shoe they come from singapor my flashlight from taiwan my tablecloth from malaysia my belt buckl from the amazon you know this shirt i wear come from the philippin and the car i drive is a chevrolet it was put togeth down in argentina by a guy makin thirti cent a day well it sundown on the union and what made in the usa sure was a good idea til greed got in the way well this silk dress is from hong kong and the pearl are from japan well the dog collar from india and the flower pot from pakistan all the furnitur it say made in brazil where a woman she slave for sure bringin home thirti cent a day to a famili of twelv you know that a lot of money to her well it sundown on the union and what made in the usa sure was a good idea til greed got in the way well you know lot of peopl complainin that there is no work i say whi you say that for when nothin you got is usmad they dont make nothin here no more you know capit is abov the law it say it dont count less it sell when it cost too much to build it at home you just build it cheaper someplac els well it sundown on the union and what made in the usa sure was a good idea til greed got in the way well the job that you use to have they gave it to somebodi down in el salvador the union are big busi friend and theyr goin out like a dinosaur they use to grow food in kansa now they want to grow it on the moon and eat it raw i can see the day come when even your home garden is gonna be against the law well it sundown on the union and what made in the usa sure was a good idea til greed got in the way democraci dont rule the world youd better get that in your head this world is rule by violenc but i guess that better left unsaid from broadway to the milki way that a lot of territori inde and a man gonna do what he has to do when hes got a hungri mouth to feed well it sundown on the union and what made in the usa sure was a good idea til greed got in the way',\n",
       " u'slow   im slow down the tune i never like it fast you want to get there soon i want to get there last it not becaus im old it not the life i led i alway like it slow that what my momma said im lace up my shoe but i dont want to run ill get here when i do dont need no start gun it not becaus im old it not what die doe i alway like it slow slow is in my blood i alway like it slow i never like it fast with you it got to go with me it got to last it not becaus im old it not becaus im dead i alway like it slow that what my momma said all your move are swift all your turn are tight let me catch my breath i thought we had all night i like to take my time i like to linger as it fli a weekend on your lip a lifetim in your eye i alway like it slow im slow down the tune i never like it fast you want to get there soon i want to get there last so babi let me go your want back in town in case they want to know im just tri to slow it down',\n",
       " u'i am a lonesom hobo   i am a lonesom hobo without famili or friend where anoth man life might begin that exact where mine end i have tri my hand at briberi blackmail and deceit and ive serv time for everyth cept beggin on the street well onc i was rather prosper there was noth i did lack i had fourteenkarat gold in my mouth and silk upon my back but i did not trust my brother i carri him to blame which led me to my fatal doom to wander off in shame kind ladi and kind gentlemen soon i will be gone but let me just warn you all befor i do pass on stay free from petti jealousi live by no man code and hold your judgment for yourself lest you wind up on this road',\n",
       " u'absolut sweet mari   well your railroad gate you know i just cant jump it sometim it get so hard you see im just sit here beat on my trumpet with all these promis you left for me but where are you tonight sweet mari well i wait for you when i was half sick yes i wait for you when you hate me well i wait for you insid of the frozen traffic when you knew i had some other place to be now where are you tonight sweet mari well anybodi can be just like me obvious but then now again not too mani can be like you fortun well six white hors that you did promis were finlli deliv down to the penitentiari but to live outsid the law you must be honest i know you alway say that you agre alright so where are you tonight sweet mari well i dont know how it happen but the riverboat captain he know my fate but evrybodi els even yourself theyr just gonna have to wait well i got the fever down in my pocket the persian drunkard he follow me yes i can take him to your hous but i cant unlock it you see you forgot to leav me with the key oh where are you tonight sweet mari well now i been in jail when all my mail show that a man cant give his address out to bad compani and now i stand here lookin at your yellow railroad in the ruin of your balconi wondr where you are tonight sweet mari',\n",
       " u'danc me to the end of love   danc me to your beauti with a burn violin danc me through the panic till im gather safe in lift me like an oliv branch and be my homeward dove danc me to the end of love danc me to the end of love oh let me see your beauti when the wit are gone let me feel you move like they do in babylon show me slowli what i onli know the limit of danc me to the end of love danc me to the end of love danc me to the wed now danc me on and on danc me veri tender and danc me veri long were both of us beneath our love were both of us abov danc me to the end of love danc me to the end of love danc me to the children who are ask to be born danc me through the curtain that our kiss have outworn rais a tent of shelter now though everi thread is torn danc me to the end of love danc me to your beauti with a burn violin danc me through the panic till im gather safe in touch me with your nake hand or touch me with your glove danc me to the end of love danc me to the end of love danc me to the end of love',\n",
       " u'new poni   onc i had a poni her name was lucif i had a poni her name was lucif she broke her leg and she need shoot i swear it hurt me more than it could ever have hurt her sometim i wonder what go on in the mind of miss x sometim i wonder what go on in the mind of miss x you know she got such a sweet disposit i never know what the poor girl gonna do to me next i got a new poni she know how to foxtrot lope and pace well i got a new poni she know how to foxtrot lope and pace she got great big hind leg and long black shaggi hair abov her face well now it was earli in the mornin i seen your shadow in the door it was earli in the mornin i seen your shadow in the door now i dont have to ask nobodi i know what you come here for they say your usin voodoo your feet walk by themselv they say your usin voodoo i seen your feet walk by themselv oh babi that god you been prayin to is gonna give ya back what your wishin on someon els come over here poni i i wanna climb up one time on you come over here poni i i wanna climb up one time on you well your so bad and nasti but i love you yes i do',\n",
       " u'your gonna make me lonesom when you go   ive seen love go by my door it never been this close befor never been so easi or so slow been shoot in the dark too long when somethin not right it wrong yer gonna make me lonesom when you go dragon cloud so high abov ive onli known careless love it alway hit me from below this time around it more correct right on target so direct yer gonna make me lonesom when you go purpl clover queen ann lace crimson hair across your face you could make me cri if you dont know cant rememb what i was thinkin of you might be spoilin me too much love yer gonna make me lonesom when you go flower on the hillsid bloomin crazi cricket talkin back and forth in rhyme blue river runnin slow and lazi i could stay with you forev and never realiz the time situat have end sad relationship have all been bad minev been like verlain and rimbaud but there no way i can compar all those scene to this affair yer gonna make me lonesom when you go yer gonna make me wonder what im doin stayin far behind without you yer gonna make me wonder what im sayin yer gonna make me give myself a good talkin to ill look for you in old honolulu san francisco ashtabula yer gonna have to leav me now i know but ill see you in the sky abov in the tall grass in the one i love yer gonna make me lonesom when you go',\n",
       " u'travel light   im travel light it au revoir my onc so bright my fallen star im run late theyll close the bar i use to play one mean guitar i guess im just somebodi who has given up on the me and you im not alon ive met a few travel light like we use to do goodnight goodnight my fallen star i guess your right you alway are i know your right about the blue you live some life youd never choos im just a fool a dreamer who forgot to dream of the me and you im not alon ive met a few travel light like we use to do travel light it au revoir my onc so bright my fallen star im run late theyll close the bar i use to play one mean guitar i guess im just somebodi who has given up on the me and you im not alon ive met a few travel light like we use to do but if the road lead back to you must i forget the thing i knew when i was friend with one or two travel light like we use to do im travel light',\n",
       " u'lay ladi lay   lay ladi lay lay across my big brass bed lay ladi lay lay across my big brass bed whatev color you have in your mind ill show them to you and youll see them shine lay ladi lay lay across my big brass bed stay ladi stay stay with your man awhil until the break of day let me see you make him smile his cloth are dirti but his hand are clean and your the best thing that hes ever seen stay ladi stay stay with your man awhil whi wait ani longer for the world to begin you can have your cake and eat it too whi wait ani longer for the one you love when hes stand in front of you lay ladi lay lay across my big brass bed stay ladi stay stay while the night is still ahead i long to see you in the morn light i long to reach for you in the night stay ladi stay stay while the night is still ahead',\n",
       " u'dark eye   oh the gentlemen are talk and the midnight moon is on the riversid theyr drink up and walk and it is time for me to slide i live in anoth world where life and death are memor where the earth is strung with lover pearl and all i see are dark eye a cock is crow far away and anoth soldier deep in prayer some mother child has gone astray she cant find him anywher but i can hear anoth drum beat for the dead that rise whom natur beast fear as they come and all i see are dark eye they tell me to be discreet for all intend purpos they tell me reveng is sweet and from where they stand im sure it is but i feel noth for their game where beauti goe unrecognis all i feel is heat and flame and all i see are dark eye oh the french girl shes in paradis and a drunken man is at the wheel hunger pay a heavi price to the fall god of speed and steel oh time is short and the day are sweet and passion rule the arrow that fli a million face at my feet but all i see are dark eye',\n",
       " u'  dream   while ride on a train goin west i fell asleep for to take my rest i dream a dream that made me sad concern myself and the first few friend i had with halfdamp eye i stare to the room where my friend and id spent mani an afternoon where we togeth weather mani a storm laughin and singin till the earli hour of the morn by the old wooden stove where our hat was hung our word were told our song were sung where we long for nothin and were satisfi jokin and talkin about the world outsid with hungri heart through the heat and cold we never much thought we could get veri old we thought we could sit forev in fun but our chanc realli was a million to one as easi it was to tell black from white it was all that easi to tell wrong from right and our choic they was few so the thought never hit that the one road we travel would ever shatter and split how mani a year has pass and gone mani a gambl has been lost and won and mani a road taken by mani a first friend and each one ive never seen again i wish i wish i wish in vain that we could sit simpli in that room again ten thousand dollar at the drop of a hat id give it all glad if our live could be like that',\n",
       " u'outlaw blue   aint it hard to stumbl and land in some funni lagoon aint it hard to stumbl and land in some muddi lagoon especi when it nine below zero and three oclock in the afternoon aint gonna hang no pictur aint gonna hang no pictur frame aint gonna hang no pictur aint gonna hang no pictur frame well i might look like robert ford but i feel just like a jess jame well i wish i was on some australian mountain rang oh i wish i was on some australian mountain rang i got no reason to be there but i imagin it would be some kind of chang i got my dark sunglass i got for good luck my black tooth i got my dark sunglass im carryin for good luck my black tooth dont ask me nothin about nothin i just might tell you the truth i got a woman in jackson i aint gonna say her name i got a woman in jackson i aint gonna say her name shes a brownskin woman but i love her just the same',\n",
       " u'meet me in the morn   meet me in the morn 56th and wabasha meet me in the morn 56th and wabasha honey we could be in kansa by time the snow begin to thaw they say the darkest hour is right befor the dawn they say the darkest hour is right befor the dawn but you wouldnt know it by me everi day been dark sinc you been gone littl rooster crowin there must be someth on his mind littl rooster crowin there must be someth on his mind well i feel just like that rooster honey ya treat me so unkind the bird are flyin low babe honey i feel so expos well the bird are flyin low babe honey i feel so expos well now i aint got ani match and the station door are close well i struggl through barb wire felt the hail fall from abov well i struggl through barb wire felt the hail fall from abov well you know i even outran the hound dog honey you know ive earn your love look at the sun sinkin like a ship look at the sun sinkin like a ship aint that just like my heart babe when you kiss my lip',\n",
       " u'crazi to love you   had to go crazi to love you had to go down to the pit had to do time in the tower beg my crazi to quit had to go crazi to love you you who were never the one whom i chase through the souvenir heartach her braid and her blous all undon sometim id head for the highway im old and the mirror dont lie but crazi has place to hide in that are deeper than ani goodby had to go crazi to love you had to let everyth fall had to be peopl i hate had to be no one at all im tire of choos desir i been save by a bless fatigu the gate of commit unwir and nobodi tri to leav sometim id head for the highway im old and the mirror dont lie but crazi has place to hide in that are deeper than ani goodby had to go crazi to love you you who were never the one whom i chase through the souvenir heartach her braid and her blous all undon',\n",
       " u'black crow blue   woke in the mornin wanderin weari and worn out i woke in the mornin wanderin weari and worn out wishin my longlost lover would walk to me talk to me tell me what it all about i was standin at the side road listenin to the billboard knock standin at the side road listenin to the billboard knock well my wrist was empti but my nerv were kickin tickin like a clock if i got anyth you need babe let me tell you in front if i got anyth you need babe let me tell you in front you can come to me sometim night time day time ani time you want sometim im thinkin im too high to fall sometim im thinkin im much too high to fall other time im thinkin im so low i dont know if i can come up at all black crow in the meadow sleep across a broad highway black crow in the meadow across a broad highway though it funni honey im out of touch dont feel much like a scarecrow today',\n",
       " u'on a night like this   on a night like this so glad you came around hold on to me so tight and heat up some coffe ground we got much to talk about and much to reminisc it sure is right on a night like this on a night like this so glad youv come to stay hold on to me pretti miss say youll never go away to stray run your finger down my spine bring me a touch of bliss it sure feel right on a night like this on a night like this i cant get ani sleep the air is so cold outsid and the snow so deep build a fire throw on log and listen to it hiss and let it burn burn burn burn on a night like this put your bodi next to mine and keep me compani there is plenti a room for all so pleas dont elbow me let the four wind blow around this old cabin door if im not too far off i think we did this onc befor there more frost on the window glass with each new tender kiss but it sure feel right on a night like this',\n",
       " u'that dont make it junk   i fought against the bottl but i had to do it drunk took my diamond to the pawnshop but that dont make it junk i know that im forgiven but i dont know how i know i dont trust my inner feel inner feel come and go how come you call me here tonight how come you bother with my heart at all you rais me up in grace then you put me in a place where i must fall too late to fix anoth drink the light are go out ill listen to the dark sing i know what that about i tri to love you my way but i couldnt make it hold so i close the book of long and i do what i am told how come you call me here tonight how come you bother with my heart at all you rais me up in grace then you put me in a place where i must fall i fought against the bottl but i had to do it drunk took my diamond to the pawnshop but that dont make it junk',\n",
       " u'the smokey life   ive never seen your eye so wide ive never seen your appetit quit this occupi elsewher is your feast of love i know where long ago we agre to keep it light so let be marri one more night it light light enough to let it go it light enough to let it go rememb when the sceneri start fade i held you til you learn to walk on air so dont look down the ground is gone there no one wait anyway the smoki life is practic everywher so set your restless heart at eas take a lesson from these autumn leav they wast no time wait for the snow dont argu now youll be late there is noth to investig it light enough light enough to let it go light enough to let it go rememb when the sceneri start fade i held you til you learn to walk on air so dont look down the ground is gone there no one wait anyway the smoki life is practic everywher come on back if the moment lend you can look up all my veri closest friend light light enough to let it go it light enough to let it go',\n",
       " u'democraci   it come through a hole in the air from those night in tiananmen squar it come from the feel that this aint exact real or it real but it aint exact there from the war against disord from the siren night and day from the fire of the homeless from the ash of the gay democraci is come to the usa it come through a crack in the wall on a visionari flood of alcohol from the stagger account of the sermon on the mount which i dont pretend to understand at all it come from the silenc on the dock of the bay from the brave the bold the batter heart of chevrolet democraci is come to the usa it come from the sorrow in the street the holi place where the race meet from the homicid bitchin that goe down in everi kitchen to determin who will serv and who will eat from the well of disappoint where the women kneel to pray for the grace of god in the desert here and the desert far away democraci is come to the usa sail on sail on o mighti ship of state to the shore of need past the reef of greed through the squall of hate sail on sail on sail on sail on it come to america first the cradl of the best and of the worst it here they got the rang and the machineri for chang and it here they got the spiritu thirst it here the famili broken and it here the lone say that the heart has got to open in a fundament way democraci is come to the usa it come from the women and the men o babi well be make love again well be go down so deep the river go to weep and the mountain go to shout amen it come like the tidal flood beneath the lunar sway imperi mysteri in amor array democraci is come to the usa sail on sail on im sentiment if you know what i mean i love the countri but i cant stand the scene and im neither left or right im just stay home tonight get lost in that hopeless littl screen but im stubborn as those garbag bag that time cannot decay im junk but im still hold up this littl wild bouquet democraci is come to the usa',\n",
       " u'lover lover lover   i ask my father i said father chang my name the one im use now it cover up with fear and filth and cowardic and shame yes and lover lover lover lover lover lover lover come back to me he said i lock you in this bodi i meant it as a kind of trial you can use it for a weapon or to make some woman smile then let me start again i cri pleas let me start again i want a face that fair this time i want a spirit that is calm i never never turn asid he said i never walk away it was you who built the templ it was you who cover up my face and may the spirit of this song may it rise up pure and free may it be a shield for you a shield against the enemi',\n",
       " u'heart with no companion   now i greet you from the other side of sorrow and despair with a love so vast and so shatter it will reach you everywher and i sing this for the captain whose ship has not been built for the mother in confus her cradl still unfil for the heart with no companion for the soul without a king for the prima ballerina who cannot danc to anyth through the day of shame that are come through the night of wild distress though your promis count for noth you must keep it nonetheless you must keep it for the captain whose ship has not been built for the mother in confus her cradl still unfil for the heart with no companion for the soul without a king for the prima ballerina who cannot danc to anyth',\n",
       " u'the faith   the sea so deep and blind the sun the wild regret the club the wheel the mind o love arent you tire yet the club the wheel the mind o love arent you tire yet the blood the soil the faith these word you cant forget your vow your holi place o love arent you tire yet the blood the soil the faith o love arent you tire yet a cross on everi hill a star a minaret so mani grave to fill o love arent you tire yet so mani grave to fill o love arent you tire yet the sea so deep and blind where still the sun must set and time itself unwind o love arent you tire yet and time itself unwind o love arent you tire yet',\n",
       " u'suzann   suzann take you down to her place near the river you can hear the boat go by you can spend the night forev and you know that shes halfcrazi but that whi you want to be there and she feed you tea and orang that come all the way from china and just when you mean to tell her that you have no love to give her then he get you on her wavelength and she let the river answer that youv alway been her lover and you want to travel with her and you want to travel blind and you know that she will trust you for youv touch her perfect bodi with your mind and jesus was a sailor when he walk upon the water and he spent a long time watch from his lone wooden tower and when he knew for certain onli drown men could see him he said all men will be sailor then until the sea shall free them but he himself was broken long befor the sky would open forsaken almost human he sank beneath your wisdom like a stone and you want to travel with him and you want to travel blind and you think you mayb youll trust him for hes touch your perfect bodi with her mind now suzann take your hand and she lead you to the river shes wear rag and feather from salvat armi counter and the sun pour down like honey on our ladi of the harbor and she show you where to look among the garbag and the flower there are hero in the seawe there are children in the morn they are lean out for love and they wil lean that way forev while suzann hold her mirror and you want to travel with her and you want to travel blind and you know that you can trust her for shes touch your perfect bodi with her mind',\n",
       " u'chelsea hotel 2   i rememb you well in the chelsea hotel you were talk so brave and so sweet give me head on the unmad bed while the limousin wait in the street those were the reason and that was new york we were run for the money and the flesh and that was call love for the worker in song probabl still is for those of them left ah but you got away didnt you babe you just turn your back on the crowd you got away i never onc heard you say i need you i dont need you i need you i dont need you and all of that jive around i rememb you well in the chelsea hotel you were famous your heart was a legend you told me again you prefer handsom men but for me you would make an except and clench your fist for the one like us who are oppress by the figur of beauti you fix yourself you said well never mind we are ugli but we have the music and you got away didnt you babe you just turn your back on the crowd you got away i never onc heard you say i need you i dont need you i need you i dont need you and all of that jive around i dont mean to suggest that i love you the best i cant keep track of each fallen robin i rememb you well in the chelsea hotel that all i dont even think of you that often',\n",
       " u'im your man   if you want a lover ill do anyth you ask me to and if you want anoth kind of love ill wear a mask for you if you want a partner take my hand or if you want to strike me down in anger here i stand im your man if you want a boxer i will step into the ring for you and if you want a doctor ill examin everi inch of you if you want a driver climb insid or if you want to take me for a ride you know you can im your man ah the moon too bright the chain too tight the beast wont go to sleep ive been run through these promis to you that i made and i could not keep ah but a man never got a woman back not by beg on his knee or id crawl to you babi and id fall at your feet and id howl at your beauti like a dog in heat and id claw at your heart and id tear at your sheet id say pleas pleas im your man and if youv got to sleep a moment on the road i will steer for you and if you want to work the street alon ill disappear for you if you want a father for your child or onli want to walk with me a while across the sand im your man if you want a lover ill do anyth you ask me to and if you want anoth kind of love ill wear a mask for you',\n",
       " u'lullabi   sleep babi sleep the day on the run the wind in the tree is talk in tongu if your heart is torn i dont wonder whi if the night is long here my lullabi here my lullabi well the mous ate the crumb then the cat ate the crust now theyv fallen in love theyr talk in tongu if your heart is torn i dont wonder whi if the night is long here my lullabi here my lullabi sleep babi sleep there a morn to come the wind in the tree theyr talk in tongu if your heart is torn i dont wonder whi if the night is long here my lullabi here my lullabi',\n",
       " u'someth burn babi   someth is burn babi are you awar someth is the matter babi there smoke in your hair are you still my friend babi show me a sign is the love in your heart for me turn blind youv been avoid the main street for a long long while the truth that im seek is in your miss file what your posit babi what go on whi is the light in your eye near gone i know everyth about this place or so it seem am i know longer a part of your plan or your dream well it is so obvious that someth has chang what happen babi to make you act so strang someth is burn babi here what i say even the bloodhound of london couldnt find you today i see the shadow of a man babi makin you blue who is he babi and what he to you weve reach the edg of the road babi where the pastur begin where chariti is suppos to cover up a multitud of sin but where do you live babi and where is the light whi are your eye just stare off in the night i can feel it in the night in the night in the night when i think of you i can feel it in the light in the light in the light and it got to be true you cant live by bread alon you wont be satisfi you cant roll away the stone if your hand are tie got to start someplac babi can you explain pleas dont fade away on me babi like the midnight train answer me babi a casual look will do just what in the world has come over you i can feel it in the wind in the wind in the wind and it upsid down i can feel it in the dust as i get of the bus on the outskirt of town ive had the mexico citi blue sinc the last hairpin curv i dont wanna see you bleed i know what you need and it aint what you deserv someth is burn babi someth in flame there a man go round call name ring down when your readi babi im wait for you i believ in the imposs you know that i do',\n",
       " u'just like a woman   nobodi feel ani pain tonight as i stand insid the rain evrybodi know that babi got new cloth but late i see her ribbon and her bow have fallen from her curl she take just like a woman yes she doe she make love just like a woman yes she doe and she ach just like a woman but she break just like a littl girl queen mari shes my friend yes i believ ill go see her again nobodi has to guess that babi cant be bless till she see final that shes like all the rest with her fog her amphetamin and her pearl she take just like a woman yes she make love just like a woman yes she doe and she ach just like a woman but she break just like a littl girl it was rain from the first and i was die there of thirst so i came in here and your longtim curs hurt but what wors is this pain in here i cant stay in here aint it clear that i just cant fit yes i believ it time for us to quit but when we meet again introduc as friend pleas dont let on that you knew me when i was hungri and it was your world ah you fake just like a woman yes you do you make love just like a woman yes you do then you ach just like a woman but you break just like a littl girl',\n",
       " u'to ramona   ramona come closer shut soft your wateri eye the pang of your sad will pass as your sens will rise for the flower of the citi though breathlik get deathlik sometim and there no use in tryin to deal with the dyin though i cannot explain that in line your crack countri lip i still wish to kiss as to be under the strength of your skin your magnet movement still captur the minut im in but it griev my heart love to see you tryin to be a part of a world that just dont exist it all just a dream babe a vacuum a scheme babe that suck you into feelin like this i can see that your head has been twist and fed with worthless foam from the mouth i can tell you are torn between stayin and returnin back to the south youv been fool into think that the finishin end is at hand yet there no one to beat you no one t defeat you cept the thought of yourself feel bad ive heard you say mani time that your better than no one and no one is better than you if you realli believ that you know you have noth to win and noth to lose from fixtur and forc and friend your sorrow doe stem that hype you and type you make you feel that you gotta be exact like them id forev talk to you but soon my word would turn into a meaningless ring for deep in my heart i know there is no help i can bring everyth pass everyth chang just do what you think you should do and someday mayb who know babi ill come and be cryin to you',\n",
       " u'raini day woman 12 35   well theyll stone you when your tri to be so good theyll stone you just like they said they would theyll stone you when your tri to go home and theyll stone you when your there all alon but i would not feel so all alon everybodi must get stone well theyll stone you when your walk on the street theyll stone you when your tryin to keep your seat theyll stone you when your walkin on the floor theyll stone you when your walkin to the door but i would not feel so all alon everybodi must get stone theyll stone you when your at the breakfast tabl theyll stone you when you are young and abl theyll stone you when your tryin to make a buck then theyll stone you and then theyll say good luck tell ya what i would not feel so all alon everybodi must get stone well theyll stone you and say that it the end then theyll stone you and then theyll come back again theyll stone you when your ride in your car theyll stone you when your play your guitar yes but i would not feel so all alon everybodi must get stone alright well theyll stone you when you walk all alon theyll stone you when you are walk home theyll stone you and then say you are brave theyll stone you when you are set down in your grave but i would not feel so all alon everybodi must get stone aint it just like the night to play trick when your tryin to be so quiet we sit here strand though were all doin our best to deni it and louis hold a hand of rain temptin you to defi it light flicker from the opposit loft in this room the heat pipe just cough the countri music station play soft but there noth realli noth to turn off just louis and her lover so entwin and these vision of johanna that conquer my mind in the empti lot where the ladi play blindman bluff with the key chain and the allnight girl they whisper of escapad out on the d train we can hear the night watchman click his flashlight ask himself if it him or them that insan louis shes all right shes just near shes delic and seem like the mirror but she just make it all too concis and too clear that johanna not here the ghost of lectric howl in the bone of her face where these vision of johanna have now taken my place now littl boy lost he take himself so serious he brag of his miseri he like to live danger and when bring her name up he speak of a farewel kiss to me hes sure got a lotta gall to be so useless and all mutter small talk at the wall while im in the hall how can i explain it so hard to get on and these vision of johanna they kept me up past the dawn insid the museum infin goe up on trial voic echo this is what salvat must be like after a while but mona lisa musta had the highway blue you can tell by the way she smile see the primit wallflow freez when the jellyfac women all sneez hear the one with the mustach say jeez i cant find my knee oh jewel and binocular hang from the head of the mule but these vision of johanna they make it all seem so cruel the peddler now speak to the countess whos pretend to care for him sayin name me someon that not a parasit and ill go out and say a prayer for him but like louis alway say ya cant look at much can ya man as she herself prepar for him and madonna she still has not show we see this empti cage now corrod where her cape of the stage onc had flow the fiddler he now step to the road he write evryth been return which was owe on the back of the fish truck that load while my conscienc explod the harmonica play the skeleton key and the rain and these vision of johanna are now all that remain',\n",
       " u'dont fall apart on me tonight   just a minut befor you leav girl just a minut befor you touch the door what is it that your tri to achiev girl do you think we can talk about it some more you know the street are fill with viper whove lost all ray of hope you know it aint even safe no more in the palac of the pope dont fall apart on me tonight i just dont think that i could handl it dont fall apart on me tonight yesterday just a memori tomorrow is never what it suppos to be and i need you yeah come over here from over there girl sit down here you can have my chair i cant see us goin anywher girl the onli place open is a thousand mile away and i cant take you there i wish id have been a doctor mayb id have save some life that had been lost mayb id have done some good in the world stead of burn everi bridg i cross dont fall apart on me tonight i just dont think that i could handl it dont fall apart on me tonight yesterday just a memori tomorrow is never what it suppos to be and i need you oh yeah i aint too good at convers girl so you might not know exact how i feel but if i could id bring you to the mountaintop girl and build you a hous made out of stainless steel but it like im stuck insid a paint that hang in the louvr my throat start to tickl and my nose itch but i know that i cant move dont fall apart on me tonight i just dont think that i could handl it dont fall apart on me tonight yesterday gone but the past live on tomorrow just one step beyond and i need you oh yeah who are these peopl who are walk toward you do you know them or will there be a fight with their humorless smile so easi to see through can they tell you what wrong from what right do you rememb st jame street where you blew jacki ps mind you were so fine clark gabl would have fell at your feet and laid his life on the line let tri to get beneath the surfac wast girl no more boobi trap and bomb no more decad and charm no more affect that misplac girl no more mudcak creatur lie in your arm what about that millionair with the drumstick in his pant he look so baffl and so bewild when he play and we didnt danc dont fall apart on me tonight i just dont think that i could handl it dont fall apart on me tonight yesterday just a memori tomorrow is never what it suppos to be and i need you yeah',\n",
       " u'the letter   you never like to get the letter that i sent but now youv got the gist of what my letter meant your read them again the one you didnt burn you press them to your lip my page of concern i said there been a flood i said there noth left i hope that you would come i gave you my address your stori was so long the plot was so intens it took you year to cross the line of selfdefens the wound form appear the loss the full extent and simpl kind here the solitud of strength you walk into my room you stand there at my desk begin your letter to the one whos come next',\n",
       " u'clean cut kid   everybodi ask whi he couldnt adjust adjust to what a dream that bust they took a cleancut kid and they made a killer out of him that what they did they said what up is down they said what isnt is they put idea in his head that he thought were his they took a cleancut kid but they made a killer out him that what they did he was on the basebal team he was in the march band when he was ten year old he had a watermelon stand he was a cleancut kid and they made a killer out of him that what they did he went to church on sunday he was a boy scout for his friend he would turn his pocket insid out he was a cleancut kid but they made a killer out him that what they did they said listen boy your just a pup they sent to a napalm health spa to shape up they gave him dope to smoke drink and pill a jeep to drive blood to spill they said congratul you got what it take they sent him back into the ratrac without ani brake they took a cleancut kid and they made a killer out him that what they did he bought the american dream but it put him in debt onli game he could play was russian roulett he drank cocacola he was eat wonder bread he ate burger king he was well fed he went to hollywood to see peter otool he stole a roll royc and drove it in a swim pool they took a cleancut kid but they made a killer out of him that what they did he couldv sold insur own a restaur or a bar he couldv been an account or a tenni star he was wear box glove he took a dive one day off the golden gate bridg into china bay his mama walk the floor his dadddi weep and moan they gotta sleep togeth in a home they dont own they took a cleancut kid and made a killer out of him that what they did everybodi ask whi he didnt adjust all he ever want was someon he could trust they took his head and turn it insid out he never did know what it was all about he had a steadi job he join the choir he never did plan to walk the high wire they took a cleancut kid and they made a killer out him that what they did',\n",
       " u'someth there is about you   someth there is about you that strike a match in me is it the way your bodi move or is it the way your hair blow free or is it becaus you remind me of someth that use to be somethin that cross over from anoth centuri thought id shaken the wonder and the phantom of my youth raini day on the great lake walkin the hill of old duluth there was me and danni lopez cold eye black night and then there was ruth someth there is about you that bring back a longforgotten truth sudden i found you and the spirit in me sing dont have to look no further your the soul of mani thing i could say that id be faith i could say it in one sweet easi breath but to you that would be cruelti and to me it sure would be death someth there is about you that move with style and grace i was in a whirlwind now im in some better place my hand on the sabr and youv pick up the baton somethin there is about you that i cant quit put my finger on',\n",
       " u'i cant forget   i stumbl out of bed i got readi for the struggl i smoke a cigarett and i tighten up my gut i said this cant be me must be my doubl and i cant forget i cant forget i cant forget but i dont rememb what im burn up the road im head down to phoenix i got this old address of someon that i knew it was high and fine and free ah you should have seen us and i cant forget i cant forget i cant forget but i dont rememb who ill be there today with a big bouquet of cactus i got this rig that run on memori and i promis cross my heart theyll never catch us but if they do just tell them it was me yeah i love you all my life and that how i want to end it the summer almost gone the winter tune up yeah the summer gone but a lot goe on forev and i cant forget i cant forget i cant forget but i dont rememb what',\n",
       " u'ballad of a thin man   you walk into the room with your pencil in your hand you see somebodi nake and you say who is that man you tri so hard but you dont understand just what you will say when you get home becaus someth is happen here but you dont know what it is do you mr jone you rais up your head and you ask is this where it is and somebodi point to you and say it his and you say what mine and somebodi els say well what is and you say oh my god am i here all alon but someth is happen and you dont know what it is do you mr jone you hand in your ticket and you go watch the geek who immedi walk up to you when he hear you speak and say how doe it feel to be such a freak and you say imposs as he hand you a bone and someth is happen here but you dont know what it is do you mr jone you have mani contact among the lumberjack to get you fact when someon attack your imagin but nobodi has ani respect anyway they alreadi expect you to all give a check to taxdeduct chariti organ ah youv been with the professor and theyv all like your look with great lawyer you have discuss leper and crook youv been through all of f scott fitzgerald book your veri wellread it wellknown but someth is happen here and you dont know what it is do you mr jone well the sword swallow he come up to you and then he kneel he cross himself and then he click his high heel and without further notic he ask you how it feel and he say here is your throat back thank for the loan and you know someth is happen but you dont know what it is do you mr jone now you see this oneey midget shout the word now and you say for what reason and he say how and you say what doe this mean and he scream back your a cow give me some milk or els go home and you know someth happen but you dont know what it is do you mr jone well you walk into the room like a camel and then you frown you put your eye in your pocket and your nose on the ground there ought to be a law against you comin around you should be made to wear earphon caus someth is happen and you dont know what it is do you mr jone',\n",
       " u'you know who i am   i cannot follow you my love you cannot follow me i am the distanc you put between all of the moment that we will be you know who i am youv stare at the sun well i am the one who love chang from noth to one sometim i need you nake sometim i need you wild i need you to carri my children in and i need you to kill a child you know who i am if you should ever track me down i will surrend there and i will leav with you one broken man whom i will teach you to repair you know who i am i cannot follow you my love you cannot follow me i am the distanc you put between all of the moment that we will be you know who i am',\n",
       " u'go home   i love to speak with  hes a sportsman and a shepherd hes a lazi bastard live in a suit but he doe say what i tell him even though it isnt welcom he just doesnt have the freedom to refus he will speak these word of wisdom like a sage a man of vision though he know hes realli noth but the brief elabor of a tube go home without my sorrow go home sometim tomorrow go home to where it better than befor go home without my burden go home behind the curtain go home without the costum that i wore he want to write a love song an anthem of forgiv a manual for live with defeat a cri abov the suffer a sacrific recov but that isnt what i need him to complet i want him to be certain that he doesnt have a burden that he doesnt need a vision that he onli has permiss to do my instant bid which is to say what i have told him to repeat go home without my sorrow go home sometim tomorrow go home to where it better than befor go home without my burden go home behind the curtain go home without this costum that i wore go home without the sorrow go home sometim tomorrow go home to where it better than befor go home without the burden go home behind the curtain go home without this costum that i wore i love to speak with  hes a sportsman and a shepherd hes a lazi bastard live in a suit',\n",
       " u'we better talk this over   i think we better talk this over mayb when we both get sober youll understand im onli a man doin the best that i can this situat can onli get rougher whi should we needless suffer let call it a day go our own differ way befor we decay you dont have to be afraid of look into my face weve done noth to each other time will not eras i feel displac i got a lowdown feel you been twofac you been doubled i took a chanc got caught in the tranc of a downhil danc oh child whi you wanna hurt me im exil you cant convert me im lost in the haze of your delic way with both eye glaze you dont have to yearn for love you dont have to be alon somewher in this univers there a place that you can call home i guess ill be leav tomorrow if i have to beg steal or borrow itd be great to cross path in a day and a half look at each other and laugh but i dont think it liabl to happen like the sound of one hand clappin the vow that we kept are now broken and swept neath the bed where we slept dont think of me and fantas on what we never had be grate for what weve share togeth and be glad whi should we go on watch each other through a telescop eventu well hang ourselv on all this tangl rope oh babe time for a new transit i wish i was a magician i would wave a wand and tie back the bond that weve both gone beyond',\n",
       " u'precious angel   precious angel under the sun how was i to know youd be the one to show me i was blind to show me i was gone how weak was the foundat i was stand upon now there spiritu warfar and flesh and blood break down ya either got faith or ya got unbelief and there aint no neutral ground the enemi is subtl how be it we are so deceiv when the truth in our heart and we still dont believ shine your light shine your light on me shine your light shine your light on me shine your light shine your light on me ya know i just couldnt make it by myself im a littl too blind to see my socal friend have fallen under a spell they look me squar in the eye and they say all is well can they imagin the dark that will fall from on high when men will beg god to kill them and they wont be abl to die sister lemm tell you about a vision i saw you were draw water for your husband you were suffer under the law you were tell him about buddha you were tell him about moham in the same breath you never mention one time the man who came and die a crimin death shine your light shine your light on me shine your light shine your light on me shine your light shine your light on me ya know i just couldnt make it by myself im a littl too blind to see precious angel you believ me when i say what god has given to us no man can take away we are cover in blood girl you know our forefath were slave let us hope theyv found merci in their bonefil grave your the queen of my flesh girl your my woman your my delight your the lamp of my soul girl and you touch up the night but there violenc in the eye girl so let us not be entic on the way out of egypt through ethiopia to the judgment hall of christ shine your light shine your light on me shine your light shine your light on me shine your light shine your light on me ya know i just couldnt make it by myself im a littl too blind to see',\n",
       " u'day of the locust   oh the bench were stain with tear and perspir the birdi were fli from tree to tree there was littl to say there was no convers as i step to the stage to pick up my degre and the locust sang off in the distanc yeah the locust sang such a sweet melodi oh the locust sang off in the distanc yeah the locust sang and they were sing for me i glanc into the chamber where the judg were talk dark was everywher it smell like a tomb i was readi to leav i was alreadi walkin but the next time i look there was light in the room and the locust sang yeah it give me a chill oh the locust sang such a sweet melodi oh the locust sang their high whine trill yeah the locust sang and they were sing for me outsid of the gate the truck were unloadin the weather was hot anear 90 degre the man standin next to me his head was explod well i was prayin the piec wouldnt fall on me yeah the locust sang off in the distanc yeah the locust sang such a sweet melodi oh the locust sang off in the distanc and the locust sang and they were sing for me i put down my robe pick up my diploma took hold of my sweetheart and away we did drive straight for the hill the black hill of dakota sure was glad to get out of there aliv and the locust sang well it give me a chill yeah the locust sang such a sweet melodi and the locust sang with a high whinin trill yeah the locust sang and they was sing for me sing for me well sing for me',\n",
       " u'one too mani morn   down the street the dog are barkin and the day is agettin dark as the night come in afallin the dogsll lose their bark an the silent night will shatter from the sound insid my mind yes im one too mani morn and a thousand mile behind from the crossroad of my doorstep my eye they start to fade and i turn my head back to the room where my love and i have laid an i gaze back to the street the sidewalk and the sign and im one too mani morn an a thousand mile behind it a restless hungri feel that dont mean no one no good when evryth im asayin you can say it just as good your right from your side im right from mine were both just one too mani morn an a thousand mile behind',\n",
       " u'the ballad of franki lee and juda priest   well franki lee and juda priest they were the best of friend so when franki lee need money one day juda quick pull out a roll of ten and place them on a footstool just abov the plot plain sayin take your pick franki boy my loss will be your gain well franki lee he sat right down and put his finger to his chin but with the cold eye of juda on him his head began to spin would ya pleas not stare at me like that he said it just my foolish pride but sometim a man must be alon and this is no place to hide well juda he just wink and said all right ill leav you here but youd better hurri up and choos which of those bill you want befor they all disappear im gonna start my pickin right now just tell me where youll be juda point down the road and said etern etern said franki lee with a voic as cold as ice that right said juda priest etern though you might call it paradis i dont call it anyth said franki lee with a smile all right said juda priest ill see you after a while well franki lee he sat back down feelin low and mean when just then a pass stranger burst upon the scene say are you franki lee the gambler whose father is deceas well if you are there a fellow callin you down the road and they say his name is priest oh yes he is my friend said franki lee in fright i do recal him veri well in fact he just left my sight yes that the one said the stranger as quiet as a mous well my messag is hes down the road strand in a hous well franki lee he panick he drop everyth and ran until he came up to the spot where juda priest did stand what kind of hous is this he said where i have come to roam it not a hous said juda priest it not a hous it a home well franki lee he trembl he soon lost all control over everyth which he had made while the mission bell did toll he just stood there stare at that big hous as bright as ani sun with four and twenti window and a woman face in everi one well up the stair ran franki lee with a soul bound leap and foam at the mouth he began to make his midnight creep for sixteen night and day he rave but on the seventeenth he burst into the arm of juda priest which is where he die of thirst no one tri to say a thing when they took him out in jest except of cours the littl neighbor boy who carri him to rest and he just walk along alon with his guilt so well conceal and mutter underneath his breath noth is reveal well the moral of the stori the moral of this song is simpli that one should never be where one doe not belong so when you see your neighbor carryin somethin help him with his load and dont go mistak paradis for that home across the road',\n",
       " u'gotta serv somebodi   you may be an ambassador to england or franc you may like to gambl you might like to danc you may be the heavyweight champion of the world you may be a socialit with a long string of pearl but your gonna have to serv somebodi yes inde your gonna have to serv somebodi well it may be the devil or it may be the lord but your gonna have to serv somebodi you might be a rock n roll addict pranc on the stage you might have drug at your command women in a cage you may be a busi man or some high degre thief they may call you doctor or they may call you chief but your gonna have to serv somebodi yes inde your gonna have to serv somebodi well it may be the devil or it may be the lord but your gonna have to serv somebodi you may be a state trooper you might be a young turk you may be the head of some big tv network you may be rich or poor you may be blind or lame you may be live in anoth countri under anoth name but your gonna have to serv somebodi yes inde your gonna have to serv somebodi well it may be the devil or it may be the lord but your gonna have to serv somebodi you may be a construct worker work on a home you may be live in a mansion or you might live in a dome you might own gun and you might even own tank you might be somebodi landlord you might even own bank but your gonna have to serv somebodi yes inde your gonna have to serv somebodi well it may be the devil or it may be the lord but your gonna have to serv somebodi you may be a preacher with your spiritu pride you may be a citi councilman take bribe on the side you may be workin in a barbershop you may know how to cut hair you may be somebodi mistress may be somebodi heir but your gonna have to serv somebodi yes inde your gonna have to serv somebodi well it may be the devil or it may be the lord but your gonna have to serv somebodi might like to wear cotton might like to wear silk might like to drink whiskey might like to drink milk you might like to eat caviar you might like to eat bread you may be sleep on the floor sleep in a kingsiz bed but your gonna have to serv somebodi yes inde your gonna have to serv somebodi well it may be the devil or it may be the lord but your gonna have to serv somebodi you may call me terri you may call me timmi you may call me bi you may call me zimmi you may call me rj you may call me ray you may call me anyth but no matter what you say your gonna have to serv somebodi yes inde your gonna have to serv somebodi well it may be the devil or it may be the lord but your gonna have to serv somebodi',\n",
       " u'down the highway   well im walkin down the highway with my suitcas in my hand yes im walkin down the highway with my suitcas in my hand lord i realli miss my babi shes in some faroff land well your street are gettin empti lord your highway gettin fill and your street are gettin empti and your highway gettin fill well the way i love that woman i swear it bound to get me kill well i been gamblin so long lord i aint got much more to lose yes i been gamblin so long lord i aint got much more to lose right now im havin troubl pleas dont take away my highway shoe well im bound to get lucki babi or im bound to die tryin yes im abound to get lucki babi lord lord im abound to die tryin well meet me in the middl of the ocean and well leav this ol highway behind well the ocean took my babi my babi stole my heart from me yes the ocean took my babi my babi took my heart from me she pack it all up in a suitcas lord she took it away to itali itali so im awalkin down your highway just as far as my poor eye can see yes im awalkin down your highway just as far as my eye can see from the golden gate bridg all the way to the statu of liberti',\n",
       " u'john wesley hard   john wesley hard was a friend to the poor he travel with a gun in everi hand all along this countrysid he open a mani a door but he was never known to hurt an honest man it was down in chayne counti a time they talk about with his ladi by his side he took a stand and soon the situat there was all but straighten out for he was alway known to lend a help hand all across the telegraph his name it did resound but no charg held against him could they prove and there was no man around who could track or chain him down he was never known to make a foolish move',\n",
       " u'i believ in you   they ask me how i feel and if my love is real and how i know ill make it through and they they look at me and frown theyd like to drive me from this town they dont want me around caus i believ in you they show me to the door they say dont come back no more caus i dont be like theyd like me to and i walk out on my own a thousand mile from home but i dont feel alon caus i believ in you i believ in you even through the tear and the laughter i believ in you even though we be apart i believ in you even on the morn after oh when the dawn is near oh when the night is disappear oh this feel is still here in my heart dont let me drift too far keep me where you are where i will alway be renew and that which youv given me today is worth more than i could pay and no matter what they say i believ in you i believ in you when winter turn to summer i believ in you when white turn to black i believ in you even though i be outnumb oh though the earth may shake me oh though my friend forsak me oh even that couldnt make me go back dont let me chang my heart keep me set apart from all the plan they do pursu and i i dont mind the pain dont mind the drive rain i know i will sustain caus i believ in you',\n",
       " u'morn glori   no word this time no word no there are time when noth can be done not this time is it censorship is it censorship no it evapor no it evapor is this lead somewher yes were go down the lane is this go somewher into the garden into the backyard were walk down the driveway are we move toward were in the backyard some transcendent moment it almost light that right that it are we move toward some transcendent moment that right that it do you think youll be abl to pull it off yes do you think you can pull it off yes it might happen im all ear im all ear oh the morn glori',\n",
       " u'the land of plenti   dont realli know who sent me to rais my voic and say may the light in the land of plenti shine on the truth some day i dont know whi i come here know as i do what you realli think of me what i realli think of you for the million in a prison that wealth has set apart for the christ who has not risen from the cavern of the heart for the innermost decis that we cannot but obey for what left of our religion i lift my voic and pray may the light in the land of plenti shine on the truth some day i know i said id meet you id meet you at the store but i cant buy it babi i cant buy it anymor and i dont realli know who sent me to rais my voic and say may the light in the land of plenti shine on the truth some day i dont know whi i come here know as i do what you realli think of me what i realli think of you for the innermost decis that we cannot but obey for what left of our religion i lift my voic and pray may the light in the land of plenti shine on the truth some day',\n",
       " u'properti of jesus   go ahead and talk about him becaus he make you doubt becaus he has deni himself the thing that you cant live without laugh at him behind his back just like the other do remind him of what he use to be when he come walkin through hes the properti of jesus resent him to the bone you got someth better youv got a heart of stone stop your convers when he pass on the street hope he fall upon himself oh wont that be sweet becaus he cant be exploit by superstit anymor becaus he cant be bribe or bought by the thing that you ador hes the properti of jesus resent him to the bone you got someth better youv got a heart of stone when the whip that keep you in line doesnt make him jump say hes hardofhearin say that hes a chump say hes out of step with realiti as you tri to test his nerv becaus he doesnt pay no tribut to the king that you serv hes the properti of jesus resent him to the bone you got someth better youv got a heart of stone say that hes a loser caus he got no common sens becaus he dont increas his worth at someon els expens becaus hes not afraid of tri caus he dont look at you and smile caus he doesnt tell you joke or fairi tale say hes got no style hes the properti of jesus resent him to the bone you got someth better youv got a heart of stone you can laugh at salvat you can play olymp game you think that when you rest at last youll go back from where you came but youv pick up quit a stori and youv chang sinc the womb what happen to the real you youv been captur but by whom hes the properti of jesus resent him to the bone you got someth better youv got a heart of stone',\n",
       " u'blowin in the wind   how mani road must a man walk down befor you call him a man how mani sea must a white dove sail befor she sleep in the sand yes n how mani time must the cannon ball fli befor theyr forev ban the answer my friend is blowin in the wind the answer is blowin in the wind yes n how mani year can a mountain exist befor it wash to the sea yes n how mani year can some peopl exist befor theyr allow to be free yes n how mani time can a man turn his head and pretend that he just doesnt see the answer my friend is blowin in the wind the answer is blowin in the wind yes n how mani time must a man look up befor he can see the sky yes n how mani ear must one man have befor he can hear peopl cri yes n how mani death will it take till he know that too mani peopl have die the answer my friend is blowin in the wind the answer is blowin in the wind',\n",
       " u'neighborhood bulli   well the neighborhood bulli hes just one man his enemi say hes on their land they got him outnumb about a million to one he got no place to escap to no place to run hes the neighborhood bulli the neighborhood bulli just live to surviv hes critic and condemn for be aliv hes not suppos to fight back hes suppos to have thick skin hes suppos to lay down and die when his door is kick in hes the neighborhood bulli the neighborhood bulli been driven out of everi land hes wander the earth an exil man seen his famili scatter his peopl hound and torn hes alway on trial for just be born hes the neighborhood bulli well he knock out a lynch mob he was critic old women condemn him said he should apolog then he destroy a bomb factori nobodi was glad the bomb were meant for him he was suppos to feel bad hes the neighborhood bulli well the chanc are against it and the odd are slim that hell live by the rule that the world make for him caus there a noos at his neck and a gun at his back and a licens to kill him is given out to everi maniac hes the neighborhood bulli he got no alli to realli speak of what he get he must pay for he dont get it out of love he buy obsolet weapon and he wont be deni but no one send flesh and blood to fight by his side hes the neighborhood bulli well hes surround by pacifist who all want peac they pray for it night that the bloodsh must ceas now they wouldnt hurt a fli to hurt one they would weep they lay and they wait for this bulli to fall asleep hes the neighborhood bulli everi empir that enslav him is gone egypt and rome even the great babylon hes made a garden of paradis in the desert sand in bed with nobodi under no one command hes the neighborhood bulli now his holiest book have been trampl upon no contract he sign was worth what it was written on he took the crumb of the world and he turn it into wealth took sick and diseas and he turn it into health hes the neighborhood bulli what anybodi indebt to him for nothin they say he just like to caus war pride and prejudic and superstit inde they wait for this bulli like a dog wait to feed hes the neighborhood bulli what has he done to wear so mani scar doe he chang the cours of river doe he pollut the moon and star neighborhood bulli stand on the hill run out the clock time stand still neighborhood bulli',\n",
       " u'man of peac   look out your window babi there a scene youd like to catch the band is play dixi a man got his hand outstretch could be the fuhrer could be the local priest you know sometim satan come as a man of peac he got a sweet gift of gab he got a harmoni tongu he know everi song of love that ever has been sung good intent can be evil both hand can be full of greas you know that sometim satan come as a man of peac well first hes in the background then hes in the front both eye are look like theyr on a rabbit hunt nobodi can see through him no not even the chief of polic you know that sometim satan come as a man of peac well he catch you when your hope for a glimps of the sun catch you when your troubl feel like they weigh a ton he could be stand next to you the person that youd notic least i hear that sometim satan come as a man of peac well he can be fascin he can be dull he can ride down niagara fall in the barrel of your skull i can smell someth cook i can tell there go to be a feast you know that sometim satan come as a man of peac hes a great humanitarian hes a great philanthropist he know just where to touch you honey and how you like to be kiss hell put both his arm around you you can feel the tender touch of the beast you know that sometim satan come as a man of peac well the howl wolf will howl tonight the king snake will crawl tree thatv stood for a thousand year sudden will fall wanna get marri do it now tomorrow all activ will ceas you know that sometim satan come as a man of peac somewher mama weep for her blueey boy shes hold them littl white shoe and that littl broken toy and hes follow a star the same one them three men follow from the east i hear that sometim satan come as a man of peac',\n",
       " u'ballad of the absent mare   say a prayer for the cowboy his mare run away and hell walk til he find her his darl his stray but the river in flood and the road are awash and the bridg break up in the panic of loss and there noth to follow there nowher to go shes gone like the summer gone like the snow and the cricket are break his heart with their song as the day cave in and the night is all wrong did he dream was it she who went gallop past and bent down the fern broke open the grass and print the mud with the iron and the gold that he nail to her feet when he was the lord and although she goe graze a minut away he track her all night he track her all day oh blind to her presenc except to compar his injuri here with her punish there then at home on a branch in the highest tree a songbird sing out so sudden ah the sun is warm and the soft wind ride on the willow tree by the river side oh the world is sweet the world is wide and shes there where the light and the dark divid and the steam come off her shes huge and shes shi and she step on the moon when she paw at the sky and she come to his hand but shes not realli tame she long to be lost he long for the same and shell bolt and shell plung through the first open pass to roll and to feed in the sweet mountain grass or shell make a break for the high plateau where there noth abov and there noth below and it time for the burden it time for the whip will she walk through the flame can he shoot from the hip so he bind himself to the gallop mare and she bind herself to the rider there and there is no space but there left and right and there is no time but there day and night and he lean on her neck and he whisper low whither thou goest i will go and they turn as one and they head for the plain no need for the whip ah no need for the rein now the clasp of this union who fasten it tight who snap it asund the veri next night some say the rider some say the mare or that love like the smoke beyond all repair but my darl say  just let it go by that old silhouett on the great western sky so i pick out a tune and they move right along and theyr gone like the smoke and theyr gone like this song',\n",
       " u'obvious 5 believ   earli in the mornin earli in the mornin im callin you to im callin you to pleas come home yes i guess i could make it without you if i just didnt feel so all alon dont let me down dont let me down i wont let you down i wont let you down no i wont you know i can if you can honey but honey pleas dont i got my black dog barkin black dog barkin yes it is now yes it is outsid my yard yes i could tell you what he mean if i just didnt have to tri so hard your mama workin your mama moanin shes cryin you know shes tryin you know you better go now well id tell you what she want but i just dont know how fifteen juggler fifteen juggler five believ five believ all dress like men tell yo mama not to worri becaus yes theyr just my friend earli in the mornin earli in the mornin im callin you to im callin you to pleas come home yes i could make it without you honey if i just did not feel so all alon',\n",
       " u'tower of song   well my friend are gone and my hair is grey i ach in the place where i use to play and im crazi for love but im not come on im just pay my rent everi day in the tower of song i said to hank william how lone doe it get hank william hasnt answer yet but i hear him cough all night long oh a hundr floor abov me in the tower of song i was born like this i had no choic i was born with the gift of a golden voic and twentyseven angel from the great beyond they tie me to this tabl right here in the tower of song so you can stick your littl pin in that voodoo doll im veri sorri babi doesnt look like me at all im stand by the window where the light is strong ah they dont let a woman kill you not in the tower of song now you can say that ive grown bitter but of this you may be sure the rich have got their channel in the bedroom of the poor and there a mighti judgment come but i may be wrong you see you hear these funni voic in the tower of song i see you stand on the other side i dont know how the river got so wide i love you babi way back when and all the bridg are burn that we might have cross but i feel so close to everyth that we lost well never well never have to lose it again now i bid you farewel i dont know when ill be back theyr move us tomorrow to that tower down the track but youll be hear from me babi long after im gone ill be speak to you sweet from a window in the tower of song yeah my friend are gone and my hair is gray i ach in the place where i use to play and im crazi for love but im not come on im just pay my rent everi day in the tower of song']"
      ]
     },
     "execution_count": 17,
     "metadata": {},
     "output_type": "execute_result"
    }
   ],
   "source": [
    "features_test"
   ]
  },
  {
   "cell_type": "markdown",
   "metadata": {},
   "source": [
    "Using a 'bag of words' approach, vectorize the lyrics data into word frequencies.\n",
    "\n",
    "Also, use the TfIDf to give more 'weight' to words that don't appear often in the total corpus."
   ]
  },
  {
   "cell_type": "code",
   "execution_count": 18,
   "metadata": {},
   "outputs": [
    {
     "name": "stdout",
     "output_type": "stream",
     "text": [
      "away tomorrow\n"
     ]
    }
   ],
   "source": [
    "#************************************TEXT VEXTORIZER USING TFIDF****************************************#\n",
    "### First need to use TfIDf to convert all the text data to frequency counts\n",
    "### i.e. \"vectorize\" or 'extract' the features (words)\n",
    "# Note: 'ngram_range=(1,3)' means that it includes in the list individual words, word pairs, and trios of consecutive\n",
    "# words - i.e. the min is 1, and the max is 3 words.\n",
    "vectorizer = TfidfVectorizer(analyzer='word', ngram_range=(1,3), sublinear_tf=True, max_df=0.2, stop_words='english')\n",
    "features_train = vectorizer.fit_transform(features_train)\n",
    "features_test  = vectorizer.transform(features_test)\n",
    "\n",
    "### Look-up words in the vectorizer vocab dictionary ###\n",
    "vocab = vectorizer.get_feature_names()\n",
    "print vocab[2411]"
   ]
  },
  {
   "cell_type": "markdown",
   "metadata": {},
   "source": [
    "Check out some features of the 'vectorizer', and the number of words/word-grams in our 'vocabulary' (note: taken from the blogpost: http://www.ultravioletanalytics.com/2016/11/18/tf-idf-basics-with-pandas-scikit-learn/)"
   ]
  },
  {
   "cell_type": "code",
   "execution_count": 20,
   "metadata": {},
   "outputs": [
    {
     "name": "stdout",
     "output_type": "stream",
     "text": [
      "[(u'fawn', 15411), (u'day sweet', 10523), (u'defi solitud', 10968), (u'woodi', 54936), (u'shame dark doe', 42222), (u'like metal belt', 27925), (u'everybodi went straight', 14176), (u'say say', 41266), (u'forget veri forget', 16759), (u'mood anymor rememb', 32442), (u'thorn oh', 48556), (u'bridg travel goe', 5562), (u'say wasnt noth', 41330), (u'fetus dont', 15745), (u'troubl nothin', 50526), (u'road men gone', 39556), (u'goe life pleasur', 18066), (u'commenc doin befor', 8647), (u'wed meet', 53488), (u'theyr just lie', 48072)]\n",
      "Number of unique word-grams in all documents: 56168\n",
      "       TFiDF weight   Term\n",
      "26610      0.006981   leav\n",
      "2305       0.006472   away\n",
      "1083       0.006371  alway\n",
      "33167      0.006287   need\n",
      "20602      0.006254   hear\n",
      "55108      0.006175  world\n",
      "18187      0.006053   gone\n",
      "10174      0.006027   dark\n",
      "13978      0.005971  everi\n",
      "48181      0.005925  thing\n",
      "53851      0.005922    whi\n",
      "27268      0.005887   life\n",
      "54636      0.005877  woman\n",
      "22603      0.005841     id\n",
      "12589      0.005840   door\n",
      "56059      0.005755   youv\n",
      "15477      0.005751   feel\n",
      "2017       0.005725    ask\n",
      "6356       0.005594   came\n",
      "28454      0.005569  littl\n"
     ]
    }
   ],
   "source": [
    "from itertools import islice\n",
    "import pandas as pd\n",
    "\n",
    "print list(islice(vectorizer.vocabulary_.items(), 20))\n",
    "print \"Number of unique word-grams in all documents:\", len(vectorizer.vocabulary_)\n",
    "\n",
    "### After 'transformation' into the bag-of-words representation, let's look at the top 20 terms\n",
    "### as 'weighted' by the TFiDF transformer\n",
    "weight = np.asarray(features_train.mean(axis=0)).ravel().tolist()\n",
    "counts_features_train = pd.DataFrame({'Term': vectorizer.get_feature_names(), 'TFiDF weight': weight})\n",
    "print counts_features_train.sort_values(by='TFiDF weight', ascending=False).head(20)"
   ]
  },
  {
   "cell_type": "markdown",
   "metadata": {},
   "source": [
    "Perform feature selection and fitting."
   ]
  },
  {
   "cell_type": "code",
   "execution_count": 21,
   "metadata": {},
   "outputs": [
    {
     "name": "stdout",
     "output_type": "stream",
     "text": [
      "264\n",
      "66\n"
     ]
    }
   ],
   "source": [
    "#************************************FEATURE SELECTION****************************************#\n",
    "### feature selection, because the text corpus is super high dimensional (lots of 'features', i.e. words) \n",
    "### and may need to be condensed into a 'dense' array for some algorithms\n",
    "### NOTE: only need to perform on 'features', as the 'labels' array is inherently dense\n",
    "selector = SelectPercentile(f_classif, percentile=18)\n",
    "selector.fit(features_train, labels_train)\n",
    "features_train_transformed = selector.transform(features_train).toarray()\n",
    "features_test_transformed  = selector.transform(features_test).toarray()\n",
    "\n",
    "print len(features_train_transformed)\n",
    "print len(features_test_transformed)"
   ]
  },
  {
   "cell_type": "markdown",
   "metadata": {},
   "source": [
    "Perform ML algorithm classifier 'fitting' and output metrics to gauge success."
   ]
  },
  {
   "cell_type": "code",
   "execution_count": 22,
   "metadata": {},
   "outputs": [
    {
     "name": "stdout",
     "output_type": "stream",
     "text": [
      "Accuracy: 0.80303030303\n",
      "Precision: 0.730769230769\n",
      "Recall: 0.76\n",
      "[[34  7]\n",
      " [ 6 19]]\n"
     ]
    }
   ],
   "source": [
    "#************************************CLASSIFIER TESTING****************************************#\n",
    "\n",
    "from sklearn.metrics import confusion_matrix\n",
    "\n",
    "### Try a Decision Tree algorithm\n",
    "'''\n",
    "from sklearn import tree\n",
    "\n",
    "clf = tree.DecisionTreeClassifier()\n",
    "clf = clf.fit(features_train_transformed, labels_train)\n",
    "ypred = clf.predict(features_test_transformed)\n",
    "accuracy = accuracy_score(labels_test, ypred)\n",
    "\n",
    "print accuracy\n",
    "'''\n",
    "\n",
    "### Try a Gaussian Naive-Bayes\n",
    "\n",
    "from sklearn.naive_bayes import GaussianNB\n",
    "\n",
    "clf = GaussianNB()\n",
    "\n",
    "fitted_clf = clf.fit(features_train_transformed, labels_train)\n",
    "ypred = fitted_clf.predict(features_test_transformed)\n",
    "accuracy = accuracy_score(labels_test, ypred)\n",
    "precision = precision_score(labels_test, ypred)\n",
    "recall = recall_score(labels_test, ypred)\n",
    "cm = confusion_matrix(labels_test, ypred)\n",
    "\n",
    "\n",
    "### Try a Multinomial Naive-Bayes\n",
    "'''\n",
    "from sklearn.naive_bayes import MultinomialNB\n",
    "\n",
    "clf = MultinomialNB()\n",
    "\n",
    "fitted_clf = clf.fit(features_train, labels_train)\n",
    "ypred = fitted_clf.predict(features_test)\n",
    "accuracy = accuracy_score(labels_test, ypred)\n",
    "precision = precision_score(labels_test, ypred)\n",
    "recall = recall_score(labels_test, ypred)\n",
    "cm = confusion_matrix(labels_test, ypred)\n",
    "'''\n",
    "\n",
    "### Try a logistic regression model\n",
    "'''\n",
    "from sklearn.linear_model import LogisticRegression\n",
    "\n",
    "clf = LogisticRegression()\n",
    "\n",
    "fitted_clf = clf.fit(features_train_transformed, labels_train)\n",
    "ypred = fitted_clf.predict(features_test_transformed)\n",
    "accuracy = accuracy_score(labels_test, ypred)\n",
    "precision = precision_score(labels_test, ypred)\n",
    "recall = recall_score(labels_test, ypred)\n",
    "cm = confusion_matrix(labels_test, ypred)\n",
    "'''\n",
    "\n",
    "print \"Accuracy:\", accuracy\n",
    "print \"Precision:\", precision\n",
    "print \"Recall:\", recall\n",
    "print cm"
   ]
  },
  {
   "cell_type": "code",
   "execution_count": 44,
   "metadata": {},
   "outputs": [
    {
     "name": "stdout",
     "output_type": "stream",
     "text": [
      "[[ 0.  0.  0. ...,  0.  0.  0.]\n",
      " [ 0.  0.  0. ...,  0.  0.  0.]\n",
      " [ 0.  0.  0. ...,  0.  0.  0.]\n",
      " ..., \n",
      " [ 0.  0.  0. ...,  0.  0.  0.]\n",
      " [ 0.  0.  0. ...,  0.  0.  0.]\n",
      " [ 0.  0.  0. ...,  0.  0.  0.]]\n"
     ]
    }
   ],
   "source": [
    "print features_train_transformed"
   ]
  },
  {
   "cell_type": "markdown",
   "metadata": {
    "collapsed": true
   },
   "source": [
    "Initial scores:\n",
    "Accuracy = 0.7879\n",
    "Precision = 0.7037\n",
    "Recall = 0.76\n",
    "\n",
    "Updated 'SelectPercentile' to 18%:\n",
    "Accuracy = 0.8030\n",
    "Precision = 0.7308\n",
    "Recall = 0.76"
   ]
  },
  {
   "cell_type": "markdown",
   "metadata": {
    "collapsed": true
   },
   "source": [
    "# Front end connections"
   ]
  },
  {
   "cell_type": "markdown",
   "metadata": {},
   "source": [
    "Need to make an function that takes an input query (a string) and performs the classification (i.e. ypred) on it, giving an output of 'Bob' or 'Leonard'."
   ]
  },
  {
   "cell_type": "code",
   "execution_count": 23,
   "metadata": {},
   "outputs": [],
   "source": [
    "from nltk.stem.snowball import SnowballStemmer\n",
    "import string\n",
    "\n",
    "def parseOutQuery(q):\n",
    "    \"\"\"\n",
    "    Takes a query 'q' and converts to a string, then splits the string into individual words\n",
    "    and performs 'stemming' on them and return a string that contains all the words\n",
    "    in the song (space-separated).\n",
    "    \n",
    "    Adapted from the 'parseOutLyrics' code.\n",
    "    \n",
    "    \"\"\"\n",
    "\n",
    "    words = \"\"\n",
    "\n",
    "    if len(q) > 1:\n",
    "        ### remove punctuation\n",
    "        ## .translate() takes two arguments, the thing to convert characters to (often with the maketrans()\n",
    "        ## helper function), and the characters to replace/'translate'.\n",
    "        query_string = q.translate(string.maketrans(\"\", \"\"), string.punctuation)\n",
    "\n",
    "        # strip non-ascii characters\n",
    "        query_string = strip_non_ascii(query_string)\n",
    "\n",
    "        ### Split the text string into individual words, stem the word, and append each stemmed word\n",
    "        ### to a new list called stemmed_query (make sure there is a single space between each\n",
    "        ### stemmed word)\n",
    "\n",
    "        split_query = query_string.split() # split on 'default' whitespace. Returns a list of words.\n",
    "\n",
    "        stemmer = SnowballStemmer(\"english\") # create 'stemmer' obj\n",
    "\n",
    "        stemmed_query = []\n",
    "        for word in split_query:\n",
    "            st_word = stemmer.stem(word)\n",
    "            stemmed_query.append(st_word)\n",
    "\n",
    "        \n",
    "        words = \" \".join(stemmed_query) # re-join the newly-created list of words...\n",
    "        #print stemmed_query\n",
    "        \n",
    "\n",
    "    return words"
   ]
  },
  {
   "cell_type": "code",
   "execution_count": 24,
   "metadata": {},
   "outputs": [],
   "source": [
    "def bob_or_leonard():\n",
    "    query = raw_input(\"What lyric you got? \")\n",
    "    \n",
    "    # need to stem/pre-process this 'raw_input' string\n",
    "    parsed_query = [parseOutQuery(query)]   # had to be an array (list-of-lists) to take full query into account\n",
    "    #print parsed_query\n",
    "    \n",
    "    # use previously defined 'vectorizer' object to transform the query (list) into the TfiDF representation/weighting\n",
    "    vectorized_query  = vectorizer.transform(parsed_query)\n",
    "    #print vectorized_query\n",
    "    \n",
    "    query_transformed  = selector.transform(vectorized_query).toarray()\n",
    "    #print query_transformed\n",
    "    \n",
    "    ### DON'T NEED FEATURE SELECTION FOR INPUT QUERY, AS IT SHOULDN'T BE TOO HIGH DIMENSIONAL\n",
    "    ### (DIMENSIONALITY = LENGTH OF INPUT QUERY STRING)\n",
    "    \n",
    "    # now pass this 'processed' query object to the ML classifier predictor\n",
    "    ypred = fitted_clf.predict(query_transformed)[0]\n",
    "    \n",
    "    # get probility of prediction\n",
    "    prob = fitted_clf.predict_proba(query_transformed)[0]\n",
    "    \n",
    "    print \"ypred: \", ypred\n",
    "    print \"prob: \", prob\n",
    "    \n",
    "    if ypred == 1:\n",
    "        print \"Leonard\"\n",
    "        print \"With {}% confidence\".format(prob[0])\n",
    "    elif ypred == 0:\n",
    "        print \"Bob\"\n",
    "        print \"With {}% confidence\".format(prob[0])"
   ]
  },
  {
   "cell_type": "code",
   "execution_count": 33,
   "metadata": {},
   "outputs": [
    {
     "name": "stdout",
     "output_type": "stream",
     "text": [
      "What lyric you got? riddle damn thumb blues\n",
      "ypred:  0\n",
      "prob:  [ 1.  0.]\n",
      "Bob\n",
      "With 1.0% confidence\n"
     ]
    }
   ],
   "source": [
    "# call the above function to get our 'Leonard or Bob' predictor!\n",
    "bob_or_leonard()"
   ]
  },
  {
   "cell_type": "markdown",
   "metadata": {},
   "source": [
    "Okay, the above seems to be working ok UNLESS the input words in the query are not in the vectorizer vocab!\n",
    "\n",
    "For example, \"Marianne\" shows up as \"Bob\"... presumably because the minimum document frequency cut-off was 20% (i.e. a word/phrase had to show up in at least 20% of the song corpus to be added to the TFiDF vectorizer vocab). At least that's what I TIHNK is happening. May just have to add an exception case to say 'If word(s) not recognized, return \"Unsure, could be either\" as the output'.\n",
    "\n",
    "When provided with sufficient input data (i.e. a few lines from a Bob or Leonard song) the classifier seems to be working quite well!"
   ]
  },
  {
   "cell_type": "code",
   "execution_count": null,
   "metadata": {
    "collapsed": true
   },
   "outputs": [],
   "source": []
  }
 ],
 "metadata": {
  "kernelspec": {
   "display_name": "Python 2",
   "language": "python",
   "name": "python2"
  },
  "language_info": {
   "codemirror_mode": {
    "name": "ipython",
    "version": 2
   },
   "file_extension": ".py",
   "mimetype": "text/x-python",
   "name": "python",
   "nbconvert_exporter": "python",
   "pygments_lexer": "ipython2",
   "version": "2.7.14"
  }
 },
 "nbformat": 4,
 "nbformat_minor": 2
}
